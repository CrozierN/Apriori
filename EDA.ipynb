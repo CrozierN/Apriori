{
  "nbformat": 4,
  "nbformat_minor": 0,
  "metadata": {
    "colab": {
      "name": "EDA.ipynb",
      "provenance": [],
      "collapsed_sections": [],
      "mount_file_id": "1NZXVIJlZ6PUJMhZ3Xg-YX343LQcPc2_Z",
      "authorship_tag": "ABX9TyNPFRus/Ux85khARNCunX3h"
    },
    "kernelspec": {
      "name": "python3",
      "display_name": "Python 3"
    },
    "language_info": {
      "name": "python"
    }
  },
  "cells": [
    {
      "cell_type": "code",
      "metadata": {
        "id": "rfazuNhy0IZ5"
      },
      "source": [
        "import pandas as pd\n",
        "import numpy as np\n",
        "import seaborn as sns\n",
        "from datetime import date as dt\n",
        "from sklearn.model_selection import train_test_split\n",
        "from sklearn import linear_model\n",
        "import matplotlib.pyplot as plt\n",
        "from sklearn.metrics import mean_squared_error, r2_score, accuracy_score"
      ],
      "execution_count": 2,
      "outputs": []
    },
    {
      "cell_type": "code",
      "metadata": {
        "id": "zC5sbmqldfRO"
      },
      "source": [
        "focus_year = 2018"
      ],
      "execution_count": 3,
      "outputs": []
    },
    {
      "cell_type": "code",
      "metadata": {
        "id": "z6xdCa-D0HT9"
      },
      "source": [
        "def get_X(year_value):\n",
        "  factors = pd.read_csv('/content/drive/MyDrive/StockMaket/MergedDataFrame/FinancialIndicators_2021-06-20_v1.csv')\n",
        "  factors['asOfDate'] = pd.to_datetime(factors['asOfDate'])\n",
        "  factors = factors.where(factors['asOfDate'].dt.year == year_value)\n",
        "  return ((factors.set_index('asOfDate')).dropna())#.set_index('symbol', append=True)\n",
        "X = get_X(focus_year)"
      ],
      "execution_count": 4,
      "outputs": []
    },
    {
      "cell_type": "code",
      "metadata": {
        "id": "sjPgbPdW0ajS"
      },
      "source": [
        "#X = (X[X['symbol'] == 'MTN.JO']).drop(columns='symbol')"
      ],
      "execution_count": null,
      "outputs": []
    },
    {
      "cell_type": "code",
      "metadata": {
        "colab": {
          "base_uri": "https://localhost:8080/",
          "height": 282
        },
        "id": "6zmx7MhB0GbY",
        "outputId": "c56ed248-96cd-4c55-f98b-4eb0c1d98e55"
      },
      "source": [
        "sns.kdeplot(data=X[['ROA']])"
      ],
      "execution_count": null,
      "outputs": [
        {
          "output_type": "execute_result",
          "data": {
            "text/plain": [
              "<matplotlib.axes._subplots.AxesSubplot at 0x7fbdcaa8ba50>"
            ]
          },
          "metadata": {
            "tags": []
          },
          "execution_count": 7
        },
        {
          "output_type": "display_data",
          "data": {
            "image/png": "[encoded data removed]",
            "text/plain": [
              "<Figure size 432x288 with 1 Axes>"
            ]
          },
          "metadata": {
            "tags": [],
            "needs_background": "light"
          }
        }
      ]
    },
    {
      "cell_type": "code",
      "metadata": {
        "id": "MUvQJWBy0tuo",
        "colab": {
          "base_uri": "https://localhost:8080/"
        },
        "outputId": "5e32428c-e34f-4103-dba7-34cc5c508d2d"
      },
      "source": [
        "def get_Y(year_value):\n",
        "  prices = pd.read_csv('/content/drive/MyDrive/StockMaket/MergedDataFrame/Stock_Prices_'+str(year_value)+'_v1.csv')\n",
        "  prices['date'] = pd.to_datetime(prices['date'])\n",
        "  prices = prices.where(prices['date'].dt.year == year_value)\n",
        "  prices = prices.set_index('date')\n",
        "  prices = ((prices.resample('BM').mean()).resample('BQ').asfreq()).fillna(0)\n",
        "\n",
        "  log_returns = (np.log(prices)).fillna(0)\n",
        "\n",
        "  data = []\n",
        "\n",
        "  for col in log_returns.columns:\n",
        "    lr = pd.DataFrame(log_returns[col]) # lr -> log return\n",
        "    lr['symbol'] = col\n",
        "    lr['log_re'] = log_returns[col]\n",
        "    data.append(lr)\n",
        "\n",
        "  return ((pd.DataFrame(pd.concat(data)))[['symbol', 'log_re']])#.set_index('symbol', append=True)\n",
        "\n",
        "y = get_Y(focus_year)"
      ],
      "execution_count": 5,
      "outputs": [
        {
          "output_type": "stream",
          "text": [
            "/usr/local/lib/python3.7/dist-packages/ipykernel_launcher.py:8: RuntimeWarning: invalid value encountered in log\n",
            "  \n"
          ],
          "name": "stderr"
        }
      ]
    },
    {
      "cell_type": "code",
      "metadata": {
        "id": "w9oSosI8Jv7V"
      },
      "source": [
        "#y = (y[y['symbol'] == 'MTN.JO']).drop(columns='symbol')"
      ],
      "execution_count": null,
      "outputs": []
    },
    {
      "cell_type": "markdown",
      "metadata": {
        "id": "9FOIt4mvbxnH"
      },
      "source": [
        "## **Distributions**"
      ]
    },
    {
      "cell_type": "code",
      "metadata": {
        "colab": {
          "base_uri": "https://localhost:8080/",
          "height": 345
        },
        "id": "EFTF0vEtEKEC",
        "outputId": "114cb42a-8135-4436-fc14-4f4e5a4e7421"
      },
      "source": [
        "plt.style.use('seaborn-darkgrid')\n",
        "\n",
        "sns.distplot(y.log_re, kde=True)\n",
        "mean_return = y.log_re.mean()\n",
        "plt.title('Distribution of Log Returns in JSE '+str(focus_year))\n",
        "plt.axvline(mean_return, ls=':', label='Index Mean: {}'.format(round(mean_return, 2)))\n",
        "plt.legend();"
      ],
      "execution_count": 6,
      "outputs": [
        {
          "output_type": "stream",
          "text": [
            "/usr/local/lib/python3.7/dist-packages/seaborn/distributions.py:2557: FutureWarning: `distplot` is a deprecated function and will be removed in a future version. Please adapt your code to use either `displot` (a figure-level function with similar flexibility) or `histplot` (an axes-level function for histograms).\n",
            "  warnings.warn(msg, FutureWarning)\n"
          ],
          "name": "stderr"
        },
        {
          "output_type": "display_data",
          "data": {
            "image/png": "[encoded data removed]",
            "text/plain": [
              "<Figure size 432x288 with 1 Axes>"
            ]
          },
          "metadata": {
            "tags": []
          }
        }
      ]
    },
    {
      "cell_type": "code",
      "metadata": {
        "colab": {
          "base_uri": "https://localhost:8080/"
        },
        "id": "XYnCDkn9qdlj",
        "outputId": "dfef8343-d841-48af-b5f9-96269f9e9ada"
      },
      "source": [
        "print(f'X dimensions {X.shape}')\n",
        "print(f'y dimensions {y.shape}')"
      ],
      "execution_count": null,
      "outputs": [
        {
          "output_type": "stream",
          "text": [
            "X dimensions (524, 141)\n",
            "y dimensions (524, 131)\n"
          ],
          "name": "stdout"
        }
      ]
    },
    {
      "cell_type": "markdown",
      "metadata": {
        "id": "sodUzZX-ksn6"
      },
      "source": [
        "### **X, y Variables One Hot Encoding**\n",
        "\n",
        "\n"
      ]
    },
    {
      "cell_type": "code",
      "metadata": {
        "id": "aqfeisVJkHyK"
      },
      "source": [
        "X_cat = pd.get_dummies(X['symbol'], drop_first=True)\n",
        "X = pd.concat([X_cat, X], axis=1)\n",
        "X = X.drop('symbol', axis=1, inplace=False)"
      ],
      "execution_count": 7,
      "outputs": []
    },
    {
      "cell_type": "code",
      "metadata": {
        "id": "x9nFhedyhHfi"
      },
      "source": [
        "y_cat = pd.get_dummies(y['symbol'], drop_first=True)\n",
        "y = pd.concat([y_cat, y], axis=1)\n",
        "y = y.drop('symbol', axis=1)"
      ],
      "execution_count": 8,
      "outputs": []
    },
    {
      "cell_type": "markdown",
      "metadata": {
        "id": "n6AAwZOI1JzP"
      },
      "source": [
        "## **Baseline Model**\n"
      ]
    },
    {
      "cell_type": "code",
      "metadata": {
        "id": "gXi7lWoQ01M6"
      },
      "source": [
        "# Two fold cross validation\n",
        "X_train, X_test, y_train, y_test = train_test_split(X, y, test_size=0.2, random_state=0)"
      ],
      "execution_count": 9,
      "outputs": []
    },
    {
      "cell_type": "code",
      "metadata": {
        "id": "7tLJS3En6LKp"
      },
      "source": [
        "ols = linear_model.LinearRegression()"
      ],
      "execution_count": 10,
      "outputs": []
    },
    {
      "cell_type": "code",
      "metadata": {
        "id": "xQ2dfbkzHL66"
      },
      "source": [
        "ols = ols.fit(X_train, y_train)"
      ],
      "execution_count": 11,
      "outputs": []
    },
    {
      "cell_type": "code",
      "metadata": {
        "id": "HJWrujJEHcOZ"
      },
      "source": [
        "y_prediction = ols.predict(X_test)"
      ],
      "execution_count": 12,
      "outputs": []
    },
    {
      "cell_type": "code",
      "metadata": {
        "colab": {
          "base_uri": "https://localhost:8080/"
        },
        "id": "61BV9ADbJLKi",
        "outputId": "63b54274-dd05-4a5a-d32e-f53479acc5e5"
      },
      "source": [
        "r2 = r2_score(y_test, y_prediction)\n",
        "r2"
      ],
      "execution_count": 13,
      "outputs": [
        {
          "output_type": "execute_result",
          "data": {
            "text/plain": [
              "0.5948817390101505"
            ]
          },
          "metadata": {
            "tags": []
          },
          "execution_count": 13
        }
      ]
    },
    {
      "cell_type": "code",
      "metadata": {
        "id": "jVVPzWBO3pd4"
      },
      "source": [
        "from sklearn.model_selection import cross_val_score\n",
        "scores = cross_val_score(ridge, X, y, cv=5)"
      ],
      "execution_count": null,
      "outputs": []
    },
    {
      "cell_type": "markdown",
      "metadata": {
        "id": "fSrEJgynsK-0"
      },
      "source": [
        "## **Model Scores**"
      ]
    },
    {
      "cell_type": "code",
      "metadata": {
        "id": "p9vGgEspxbxR"
      },
      "source": [
        "r2 = r2_score(y_test, y_prediction)\n",
        "mse = mean_squared_error(y_test, y_prediction)"
      ],
      "execution_count": null,
      "outputs": []
    },
    {
      "cell_type": "code",
      "metadata": {
        "id": "xpc7UMxwS2SZ"
      },
      "source": [
        ""
      ],
      "execution_count": null,
      "outputs": []
    }
  ]
}